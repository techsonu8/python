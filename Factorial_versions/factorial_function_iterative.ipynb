{
 "cells": [
  {
   "cell_type": "code",
   "execution_count": null,
   "id": "224c663a",
   "metadata": {},
   "outputs": [
    {
     "name": "stdout",
     "output_type": "stream",
     "text": [
      "Enter a number to find its Factorial : 6\n",
      "Factorial of  6  is :  720\n",
      "Enter a number to find its Factorial : -6\n",
      "Enter another input\n",
      "Factorial of a Negative number does not exist\n",
      "Enter a number to find its Factorial : 0\n",
      "Factorial of  0  is :  1\n",
      "Enter a number to find its Factorial : -1\n",
      "Enter another input\n",
      "Factorial of a Negative number does not exist\n",
      "Enter a number to find its Factorial : 10\n",
      "Factorial of  10  is :  3628800\n"
     ]
    }
   ],
   "source": [
    "# a function is created\n",
    "\n",
    "# this is simple code to find a factorial of a number\n",
    "while(True):      \n",
    "    number = int(input(\"Enter a number to find its Factorial : \"))\n",
    "    if number < 0 :\n",
    "        print(\"Enter another input\")\n",
    "        print(\"Factorial of a Negative number does not exist\")\n",
    "    else:\n",
    "        result = fact(number)\n",
    "        print(\"Factorial of \",number, \" is : \",result)\n",
    "\n",
    "def fact(number) :\n",
    "    factorial = 1\n",
    "    for i in range(1,number+1):\n",
    "        factorial = factorial * i\n",
    "    return factorial"
   ]
  },
  {
   "cell_type": "code",
   "execution_count": null,
   "id": "b73d3dc6",
   "metadata": {},
   "outputs": [],
   "source": []
  }
 ],
 "metadata": {
  "kernelspec": {
   "display_name": "Python 3",
   "language": "python",
   "name": "python3"
  },
  "language_info": {
   "codemirror_mode": {
    "name": "ipython",
    "version": 3
   },
   "file_extension": ".py",
   "mimetype": "text/x-python",
   "name": "python",
   "nbconvert_exporter": "python",
   "pygments_lexer": "ipython3",
   "version": "3.8.8"
  }
 },
 "nbformat": 4,
 "nbformat_minor": 5
}
