{
 "cells": [
  {
   "cell_type": "code",
   "execution_count": null,
   "id": "668dabbb",
   "metadata": {},
   "outputs": [],
   "source": [
    "import math \n",
    "while(1) :\n",
    "    \n",
    "    number = int(input(\"Enter a number to find its Factorial : \"))\n",
    "\n",
    "    if number < 0 :\n",
    "        print(\"Factorial of a Negative number does not exist\")\n",
    "    else :\n",
    "        factorial = math.factorial(number)\n",
    "        print(\"Factorial of \",number, \" is : \",factorial)"
   ]
  },
  {
   "cell_type": "code",
   "execution_count": null,
   "id": "208fc1d6",
   "metadata": {},
   "outputs": [],
   "source": []
  }
 ],
 "metadata": {
  "kernelspec": {
   "display_name": "Python 3",
   "language": "python",
   "name": "python3"
  },
  "language_info": {
   "codemirror_mode": {
    "name": "ipython",
    "version": 3
   },
   "file_extension": ".py",
   "mimetype": "text/x-python",
   "name": "python",
   "nbconvert_exporter": "python",
   "pygments_lexer": "ipython3",
   "version": "3.8.8"
  }
 },
 "nbformat": 4,
 "nbformat_minor": 5
}
