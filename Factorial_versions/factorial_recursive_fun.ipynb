{
 "cells": [
  {
   "cell_type": "code",
   "execution_count": null,
   "id": "147df1e2",
   "metadata": {},
   "outputs": [],
   "source": [
    "# this is simple code to find a factorial of a number\n",
    "while(True):      \n",
    "    number = int(input(\"Enter a number to find its Factorial : \"))\n",
    "    if number < 0 :\n",
    "        print(\"Enter another input\")\n",
    "        print(\"Factorial of a Negative number does not exist\")\n",
    "    else:\n",
    "        result = fact(number)\n",
    "        print(\"Factorial of \",number, \" is : \",result)\n",
    "    \n",
    "def fact(number) :\n",
    "    if (number == 0 or number == 1) :\n",
    "        return 1\n",
    "    else :\n",
    "        return (number * fact(number-1))"
   ]
  },
  {
   "cell_type": "code",
   "execution_count": null,
   "id": "7b3cb8bd",
   "metadata": {},
   "outputs": [],
   "source": []
  }
 ],
 "metadata": {
  "kernelspec": {
   "display_name": "Python 3",
   "language": "python",
   "name": "python3"
  },
  "language_info": {
   "codemirror_mode": {
    "name": "ipython",
    "version": 3
   },
   "file_extension": ".py",
   "mimetype": "text/x-python",
   "name": "python",
   "nbconvert_exporter": "python",
   "pygments_lexer": "ipython3",
   "version": "3.8.8"
  }
 },
 "nbformat": 4,
 "nbformat_minor": 5
}
